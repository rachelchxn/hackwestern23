{
 "cells": [
  {
   "cell_type": "code",
   "execution_count": 2,
   "metadata": {},
   "outputs": [
    {
     "name": "stdout",
     "output_type": "stream",
     "text": [
      "Defaulting to user installation because normal site-packages is not writeable\n",
      "Requirement already satisfied: opencv-python in /Users/rachelchen/Library/Python/3.9/lib/python/site-packages (from -r requirements.txt (line 1)) (4.8.1.78)\n",
      "Requirement already satisfied: face_recognition in /Users/rachelchen/Library/Python/3.9/lib/python/site-packages (from -r requirements.txt (line 2)) (1.3.0)\n",
      "Requirement already satisfied: numpy>=1.19.3 in /Users/rachelchen/Library/Python/3.9/lib/python/site-packages (from opencv-python->-r requirements.txt (line 1)) (1.26.2)\n",
      "Requirement already satisfied: dlib>=19.7 in /Users/rachelchen/Library/Python/3.9/lib/python/site-packages (from face_recognition->-r requirements.txt (line 2)) (19.24.2)\n",
      "Requirement already satisfied: Pillow in /Users/rachelchen/Library/Python/3.9/lib/python/site-packages (from face_recognition->-r requirements.txt (line 2)) (10.1.0)\n",
      "Requirement already satisfied: face-recognition-models>=0.3.0 in /Users/rachelchen/Library/Python/3.9/lib/python/site-packages (from face_recognition->-r requirements.txt (line 2)) (0.3.0)\n",
      "Requirement already satisfied: Click>=6.0 in /Users/rachelchen/Library/Python/3.9/lib/python/site-packages (from face_recognition->-r requirements.txt (line 2)) (8.1.7)\n",
      "\u001b[33mWARNING: You are using pip version 21.2.4; however, version 23.3.1 is available.\n",
      "You should consider upgrading via the '/Library/Developer/CommandLineTools/usr/bin/python3 -m pip install --upgrade pip' command.\u001b[0m\n"
     ]
    }
   ],
   "source": [
    "!pip3 install -r requirements.txt"
   ]
  },
  {
   "cell_type": "code",
   "execution_count": 26,
   "metadata": {},
   "outputs": [],
   "source": [
    "import cv2\n",
    "import face_recognition\n",
    "import numpy as np"
   ]
  },
  {
   "cell_type": "code",
   "execution_count": 33,
   "metadata": {},
   "outputs": [],
   "source": [
    "rachel_image = face_recognition.load_image_file(\"rachel.png\")\n",
    "rachel_encoding = face_recognition.face_encodings(rachel_image)[0]\n",
    "\n",
    "xander_image = face_recognition.load_image_file(\"xander.jpg\")\n",
    "xander_encoding = face_recognition.face_encodings(xander_image)[0]\n",
    "\n",
    "# james_image = face_recognition.load_image_file(\"james.jpg\")\n",
    "# james_encoding = face_recognition.face_encodings(james_image)[0]"
   ]
  },
  {
   "cell_type": "code",
   "execution_count": 34,
   "metadata": {},
   "outputs": [],
   "source": [
    "known_face_encodings = [\n",
    "    rachel_encoding,\n",
    "    xander_encoding\n",
    "]\n",
    "known_face_names = [\n",
    "    \"Rachel Chen\"\n",
    "    \"Xander Chin\"\n",
    "]\n",
    "\n",
    "# Initialize some variables\n",
    "face_locations = []\n",
    "face_encodings = []\n",
    "face_names = []\n",
    "process_this_frame = True\n"
   ]
  },
  {
   "cell_type": "code",
   "execution_count": 35,
   "metadata": {},
   "outputs": [],
   "source": [
    "video_capture = cv2.VideoCapture(1)\n",
    "while True:\n",
    "    # Grab a single frame of video\n",
    "    ret, frame = video_capture.read()\n",
    "\n",
    "    # Convert the image from BGR color (which OpenCV uses) to RGB color (which face_recognition uses)\n",
    "    rgb_frame = np.ascontiguousarray(frame[:, :, ::-1])\n",
    "\n",
    "    # Find all the faces in the frame of video\n",
    "    face_locations = face_recognition.face_locations(rgb_frame)\n",
    "\n",
    "    # Proceed only if faces are detected\n",
    "    if face_locations:\n",
    "        # Encode the faces found in the frame\n",
    "        face_encodings = face_recognition.face_encodings(rgb_frame, face_locations)\n",
    "        for (top, right, bottom, left), face_encoding in zip(face_locations, face_encodings):\n",
    "                \n",
    "            # See if the face is a match for the known face(s)\n",
    "            matches = face_recognition.compare_faces(known_face_encodings, face_encoding)\n",
    "\n",
    "            name = \"Unknown\"\n",
    "\n",
    "            # If a match was found in known_face_encodings, just use the first one.\n",
    "            # if True in matches:\n",
    "            #     first_match_index = matches.index(True)\n",
    "            #     name = known_face_names[first_match_index]\n",
    "\n",
    "            # Or instead, use the known face with the smallest distance to the new face\n",
    "            face_distances = face_recognition.face_distance(known_face_encodings, face_encoding)\n",
    "            best_match_index = np.argmin(face_distances)\n",
    "            if matches[best_match_index]:\n",
    "                name = known_face_names[best_match_index]\n",
    "\n",
    "            # Draw a box around the face\n",
    "            cv2.rectangle(frame, (left, top), (right, bottom), (0, 0, 255), 2)\n",
    "\n",
    "            # Draw a label with a name below the face\n",
    "            cv2.rectangle(frame, (left, bottom - 35), (right, bottom), (0, 0, 255), cv2.FILLED)\n",
    "            font = cv2.FONT_HERSHEY_DUPLEX\n",
    "            cv2.putText(frame, name, (left + 6, bottom - 6), font, 1.0, (255, 255, 255), 1)\n",
    "\n",
    "    # Display the resulting image\n",
    "    cv2.imshow('Video', frame)\n",
    "\n",
    "    # Hit 'q' on the keyboard to quit!\n",
    "    if cv2.waitKey(1) & 0xFF == ord('q'):\n",
    "        break\n",
    "\n",
    "# Release handle to the webcam\n",
    "video_capture.release()\n",
    "cv2.destroyAllWindows()"
   ]
  },
  {
   "cell_type": "code",
   "execution_count": null,
   "metadata": {},
   "outputs": [],
   "source": []
  },
  {
   "cell_type": "code",
   "execution_count": null,
   "metadata": {},
   "outputs": [],
   "source": []
  }
 ],
 "metadata": {
  "kernelspec": {
   "display_name": "Python 3",
   "language": "python",
   "name": "python3"
  },
  "language_info": {
   "codemirror_mode": {
    "name": "ipython",
    "version": 3
   },
   "file_extension": ".py",
   "mimetype": "text/x-python",
   "name": "python",
   "nbconvert_exporter": "python",
   "pygments_lexer": "ipython3",
   "version": "3.11.4"
  }
 },
 "nbformat": 4,
 "nbformat_minor": 2
}
